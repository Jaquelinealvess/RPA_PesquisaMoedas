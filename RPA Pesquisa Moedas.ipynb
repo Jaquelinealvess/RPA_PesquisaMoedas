{
 "cells": [
  {
   "cell_type": "code",
   "execution_count": 2,
   "id": "1dfce1ae",
   "metadata": {},
   "outputs": [
    {
     "name": "stdout",
     "output_type": "stream",
     "text": [
      "Defaulting to user installation because normal site-packages is not writeable\n",
      "Requirement already satisfied: selenium in c:\\users\\jasantos\\appdata\\roaming\\python\\python39\\site-packages (3.141.0)"
     ]
    },
    {
     "name": "stderr",
     "output_type": "stream",
     "text": [
      "WARNING: Ignoring invalid distribution -andas (c:\\programdata\\anaconda3\\lib\\site-packages)\n",
      "WARNING: Ignoring invalid distribution -andas (c:\\programdata\\anaconda3\\lib\\site-packages)\n",
      "WARNING: Ignoring invalid distribution -andas (c:\\programdata\\anaconda3\\lib\\site-packages)\n",
      "WARNING: Ignoring invalid distribution -andas (c:\\programdata\\anaconda3\\lib\\site-packages)\n"
     ]
    },
    {
     "name": "stdout",
     "output_type": "stream",
     "text": [
      "\n",
      "Requirement already satisfied: urllib3 in c:\\programdata\\anaconda3\\lib\\site-packages (from selenium) (1.26.9)\n"
     ]
    }
   ],
   "source": [
    "!pip install selenium "
   ]
  },
  {
   "cell_type": "code",
   "execution_count": 5,
   "id": "aaf49d03",
   "metadata": {},
   "outputs": [],
   "source": [
    "from selenium import webdriver\n",
    "abrirNavegador = webdriver.Chrome()\n",
    "abrirNavegador.get('https://www.google.com/')"
   ]
  },
  {
   "cell_type": "code",
   "execution_count": 16,
   "id": "497998f5",
   "metadata": {},
   "outputs": [
    {
     "name": "stdout",
     "output_type": "stream",
     "text": [
      "Dolar:5,43\n",
      "Euro5,53\n"
     ]
    }
   ],
   "source": [
    "#Abrindo o Google e capturando o valor do dolar\n",
    " \n",
    "from selenium import webdriver as opcoes_selenium_aula\n",
    "from selenium.webdriver.common.keys import Keys\n",
    "import pyautogui as tempoPausaComputador\n",
    " \n",
    "meuNavegador = opcoes_selenium_aula.Chrome()\n",
    "meuNavegador.get(\"https://www.google.com.br/\")\n",
    " \n",
    "#Aguarda 4 segundos\n",
    "tempoPausaComputador.sleep(4)\n",
    " \n",
    "#Procura o campo nome que está como tag 'q' \n",
    "#Depois que encontrar digita Dolar Hoje\n",
    "meuNavegador.find_element_by_name(\"q\").send_keys(\"Dolar hoje\")\n",
    " \n",
    "#Aguarda 4 segundos\n",
    "tempoPausaComputador.sleep(4)\n",
    " \n",
    "#Retorna para o campo nome q\n",
    "meuNavegador.find_element_by_name(\"q\").send_keys(Keys.RETURN)\n",
    " \n",
    "#Aguarda 4 segundos\n",
    "tempoPausaComputador.sleep(4)\n",
    " \n",
    "valorDolarPeloGoogle = meuNavegador.find_elements_by_xpath('//*[@id=\"knowledge-currency__updatable-data-column\"]/div[1]/div[2]/span[1]')[0].text\n",
    "# ------------------------------------------------------------\n",
    "tempoPausaComputador.sleep(4)\n",
    " \n",
    "\n",
    "#Voltando para o campo de digitação\n",
    "meuNavegador.find_element_by_name(\"q\").send_keys(\"\")\n",
    "\n",
    "tempoPausaComputador.sleep(4)\n",
    "\n",
    "# usando o Pyautogui para apertar \n",
    "tempoPausaComputador.press('tab')\n",
    "\n",
    "# usando o Pyautogui para apertar enter\n",
    "tempoPausaComputador.press('enter')\n",
    "tempoPausaComputador.sleep(2)\n",
    "\n",
    "#Depois que encontrar digita euro\n",
    "meuNavegador.find_element_by_name(\"q\").send_keys(\"Euro\")\n",
    "tempoPausaComputador.sleep(4)\n",
    "\n",
    "#Retorna para o campo nome q\n",
    "meuNavegador.find_element_by_name(\"q\").send_keys(Keys.RETURN)\n",
    "\n",
    "valorEuroPeloGoogle = meuNavegador.find_elements_by_xpath('//*[@id=\"knowledge-currency__updatable-data-column\"]/div[1]/div[2]/span[1]')[0].text\n",
    "\n",
    "print(\"Dolar: \" + valorDolarPeloGoogle)\n",
    "print(\"Euro: \" + valorEuroPeloGoogle)\n"
   ]
  },
  {
   "cell_type": "code",
   "execution_count": null,
   "id": "53fa1a42",
   "metadata": {},
   "outputs": [],
   "source": [
    "# utilizando a posção relativa\n",
    "import pyautogui as posicaoAbrirGoogle\n",
    "posicaoAbrirGoogle.sleep(6)\n",
    "# print(posicaoAbrirGoogle.position())\n",
    "posicaoAbrirGoogle.moveTo(x=33, y=399)\n",
    "posicaoAbrirGoogle.doubleClick(x=33, y=399)\n",
    "posicaoAbrirGoogle.sleep(8)\n",
    "\n",
    "# Abrir google e Escolher o usuário/conta \n",
    "posicaoAbrirGoogle.moveTo(x=431, y=316)\n",
    "posicaoAbrirGoogle.doubleClick(x=431, y=316)\n",
    "posicaoAbrirGoogle.sleep(6)\n",
    "\n",
    "# escrever url do google\n",
    "posicaoAbrirGoogle.typewrite('https://www.google.com/')\n",
    "posicaoAbrirGoogle.sleep(3)\n",
    "# preesionar enter\n",
    "posicaoAbrirGoogle.press('enter')\n",
    "posicaoAbrirGoogle.sleep(6)\n",
    "\n",
    "# print(posicaoAbrirGoogle.position())\n",
    "# Point(x=1365, y=0)\n",
    "\n",
    "# escrever dolar hoje \n",
    "posicaoAbrirGoogle.typewrite('dolar hoje')\n",
    "posicaoAbrirGoogle.sleep(3)\n",
    "# preesionar enter e aguardar\n",
    "posicaoAbrirGoogle.press('enter')\n",
    "posicaoAbrirGoogle.sleep(3)\n",
    "\n",
    "# print(posicaoAbrirGoogle.position())\n",
    "# Point(x=1365, y=0)"
   ]
  }
 ],
 "metadata": {
  "kernelspec": {
   "display_name": "Python 3 (ipykernel)",
   "language": "python",
   "name": "python3"
  },
  "language_info": {
   "codemirror_mode": {
    "name": "ipython",
    "version": 3
   },
   "file_extension": ".py",
   "mimetype": "text/x-python",
   "name": "python",
   "nbconvert_exporter": "python",
   "pygments_lexer": "ipython3",
   "version": "3.9.12"
  }
 },
 "nbformat": 4,
 "nbformat_minor": 5
}
